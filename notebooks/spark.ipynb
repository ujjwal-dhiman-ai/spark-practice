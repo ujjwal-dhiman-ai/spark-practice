{
 "cells": [
  {
   "cell_type": "code",
   "execution_count": 1,
   "id": "b359b09a-7548-43e0-854c-383edc0ae40f",
   "metadata": {},
   "outputs": [],
   "source": [
    "from pyspark.sql import functions as F"
   ]
  },
  {
   "cell_type": "code",
   "execution_count": 3,
   "id": "94a03b9b-51ac-43db-bdbd-4370f8b6db2d",
   "metadata": {},
   "outputs": [],
   "source": [
    "import requests\n",
    "import os\n",
    "\n",
    "os.makedirs(\"/data\", exist_ok=True)\n",
    "\n",
    "with open(\"/data/winemag-reviews.csv\", \"wb\") as file:\n",
    "    csv_url = \"http://tinyurl.com/winemag-reviews-csv\"\n",
    "    file.write(requests.get(csv_url).content)\n",
    "\n",
    "with open(\"/data/winemag-reviews.json\", \"wb\") as file:\n",
    "    json_url = \"http://tinyurl.com/winemag-reviews-json\"\n",
    "    file.write(requests.get(json_url).content)"
   ]
  },
  {
   "cell_type": "code",
   "execution_count": 5,
   "id": "4a2f8d03-3c6e-48ed-9c2a-61288451a955",
   "metadata": {},
   "outputs": [
    {
     "name": "stdout",
     "output_type": "stream",
     "text": [
      "+--------+--------------------+------+-----+------------------+--------------------+--------------+\n",
      "| country|         description|points|price|       taster_name|               title|       variety|\n",
      "+--------+--------------------+------+-----+------------------+--------------------+--------------+\n",
      "|   Italy|Aromas include tr...|    87| NULL|     Kerin O’Keefe|Nicosia 2013 Vulk...|   White Blend|\n",
      "|Portugal|This is ripe and ...|    87|   15|        Roger Voss|Quinta dos Avidag...|Portuguese Red|\n",
      "|      US|Tart and snappy, ...|    87|   14|      Paul Gregutt|Rainstorm 2013 Pi...|    Pinot Gris|\n",
      "|      US|Pineapple rind, l...|    87|   13|Alexander Peartree|St. Julian 2013 R...|      Riesling|\n",
      "+--------+--------------------+------+-----+------------------+--------------------+--------------+\n",
      "only showing top 4 rows\n",
      "\n"
     ]
    }
   ],
   "source": [
    "from pyspark.sql import SparkSession, functions as F\n",
    "\n",
    "# Initialize spark context\n",
    "spark = SparkSession.builder.getOrCreate()\n",
    "\n",
    "# load from dataset we downloaded earlier\n",
    "df = spark.read.format(\"json\").load(\"/data/winemag-reviews.json\")\n",
    "df = df.select(\"country\",\"description\",\"points\",\"price\",\"taster_name\",\"title\",\"variety\")\n",
    "df.show(4)"
   ]
  },
  {
   "cell_type": "code",
   "execution_count": null,
   "id": "52d1ef7c-bdb6-4d46-af38-3f875499139f",
   "metadata": {},
   "outputs": [],
   "source": []
  }
 ],
 "metadata": {
  "kernelspec": {
   "display_name": "Python 3 (ipykernel)",
   "language": "python",
   "name": "python3"
  },
  "language_info": {
   "codemirror_mode": {
    "name": "ipython",
    "version": 3
   },
   "file_extension": ".py",
   "mimetype": "text/x-python",
   "name": "python",
   "nbconvert_exporter": "python",
   "pygments_lexer": "ipython3",
   "version": "3.11.6"
  }
 },
 "nbformat": 4,
 "nbformat_minor": 5
}
